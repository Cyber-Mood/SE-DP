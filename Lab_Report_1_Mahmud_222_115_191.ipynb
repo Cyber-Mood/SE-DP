{
  "nbformat": 4,
  "nbformat_minor": 0,
  "metadata": {
    "colab": {
      "provenance": [],
      "authorship_tag": "ABX9TyPnMM8mO67U2hz0qrv3+g58",
      "include_colab_link": true
    },
    "kernelspec": {
      "name": "python3",
      "display_name": "Python 3"
    },
    "language_info": {
      "name": "python"
    }
  },
  "cells": [
    {
      "cell_type": "markdown",
      "metadata": {
        "id": "view-in-github",
        "colab_type": "text"
      },
      "source": [
        "<a href=\"https://colab.research.google.com/github/Cyber-Mood/SE-DP/blob/main/Lab_Report_1_Mahmud_222_115_191.ipynb\" target=\"_parent\"><img src=\"https://colab.research.google.com/assets/colab-badge.svg\" alt=\"Open In Colab\"/></a>"
      ]
    },
    {
      "cell_type": "markdown",
      "source": [
        "#**Object-Oriented Programming (OOP)**"
      ],
      "metadata": {
        "id": "dOAngQto3mfA"
      }
    },
    {
      "cell_type": "markdown",
      "source": [
        "##Python as an OOP Language"
      ],
      "metadata": {
        "id": "I7lvPwiWxd6A"
      }
    },
    {
      "cell_type": "markdown",
      "source": [
        "Object-Oriented Programming (OOP) is a programming paradigm based on the concept of objects, which contain data (attributes/properties) and methods (functions/behaviors). In Python, OOP allows for modular, reusable, and organized code, making it easier to maintain and extend.\n",
        "\n",
        "Python uses classes and objects to implement OOP principles. A class is a blueprint for creating objects, and an object is an instance of a class.\n",
        "\n",
        "OOP Concepts in Python:  \n",
        " * Class – A blueprint that defines attributes (variables) and methods (functions).  \n",
        " * Object – An instance of a class with actual values assigned to attributes.  \n",
        " * Methods – Functions defined inside a class that operate on object attributes.  \n",
        " * Attributes – Variables that store data relevant to the object.   \n",
        " * Encapsulation – Hiding data inside a class and restricting direct access.  \n",
        " * Abstraction – Hiding implementation details and exposing only necessary functionality.  \n",
        " * Inheritance – Allowing one class to derive properties and behaviors from another.  \n",
        " * Polymorphism – Allowing different classes to be treated as the same type through a common interface."
      ],
      "metadata": {
        "id": "-AgKEoot3xsk"
      }
    },
    {
      "cell_type": "markdown",
      "source": [
        "#**4 Pillars of OOP**"
      ],
      "metadata": {
        "id": "-Ij-MO6U09l5"
      }
    },
    {
      "cell_type": "markdown",
      "source": [
        "##1. Inheritance\n",
        "Inheritance allows a class (child class) to acquire properties and methods of another class (parent class). It supports hierarchical classification and promotes code reuse.\n",
        "\n",
        "Types of Inheritance:  \n",
        " * **Single Inheritance**: A child class inherits from a single parent class.  \n",
        " * **Multiple Inheritance**: A child class inherits from more than one parent class.  \n",
        " * **Multilevel Inheritance**: A child class inherits from a parent class, which in turn inherits from another class.  \n",
        " * **Hierarchical Inheritance**: Multiple child classes inherit from a single parent class.  \n",
        " * **Hybrid Inheritance**: A combination of two or more types of inheritance."
      ],
      "metadata": {
        "id": "FZohCxMu1Erb"
      }
    },
    {
      "cell_type": "code",
      "source": [
        "class Cat:\n",
        "    def __init__(self, name):\n",
        "        self.name = name\n",
        "    def display_name(self):\n",
        "        print(f\"Cat's Name: {self.name}\")\n",
        "\n",
        "#Single Inhertance\n",
        "class Persian(Cat):\n",
        "    def sound(self):\n",
        "        print(\"Persian meows\")\n",
        "\n",
        "#Multilevel Inheritance\n",
        "class ShowCat(Persian):\n",
        "    def show(self):\n",
        "        print(f\"{self.name} shows off!\")\n",
        "\n",
        "#Multiple Inheritance\n",
        "class Friendly:\n",
        "    def greet(self):\n",
        "        print(\"Friendly and Cute!\")\n",
        "\n",
        "class Munchkin(Cat, Friendly):\n",
        "    def sound(self):\n",
        "        print(\"munchkin meows\")\n",
        "\n",
        "persian = Persian(\"Fiona\")\n",
        "persian.display_name()\n",
        "persian.sound()\n",
        "\n",
        "show_cat = ShowCat(\"Alex\")\n",
        "show_cat.display_name()\n",
        "show_cat.show()\n",
        "\n",
        "munchkin = Munchkin(\"Pintu\")\n",
        "munchkin.display_name()\n",
        "munchkin.greet()\n",
        "munchkin.sound()"
      ],
      "metadata": {
        "colab": {
          "base_uri": "https://localhost:8080/"
        },
        "id": "r65JnVIV1mer",
        "outputId": "1b6192d8-df09-415f-81fb-13665c205bf5"
      },
      "execution_count": null,
      "outputs": [
        {
          "output_type": "stream",
          "name": "stdout",
          "text": [
            "Cat's Name: Fiona\n",
            "Persian meows\n",
            "Cat's Name: Alex\n",
            "Alex shows off!\n",
            "Cat's Name: Pintu\n",
            "Friendly and Cute!\n",
            "munchkin meows\n"
          ]
        }
      ]
    },
    {
      "cell_type": "markdown",
      "source": [
        "###Explanation:\n",
        "*   Single Inheritance: Persian inherits Cat's attributes and methods.\n",
        "*   Multilevel Inheritance: ShowCat extends Persian, inheriting both Cat and Persian functionalities.\n",
        "*   Multiple Inheritance: Munchkin inherits from both Cat and Friendly.\n",
        "\n",
        "\n",
        "\n"
      ],
      "metadata": {
        "id": "M-TArwJtI7wy"
      }
    },
    {
      "cell_type": "markdown",
      "source": [
        "##2. Polymorphism\n",
        "Polymorphism allows methods to have the same name but behave differently based on the object’s context. It can be achieved through method overriding or overloading.\n",
        "\n",
        "Types of Polymorphism  \n",
        "* Compile-Time Polymorphism: This type of polymorphism is determined during the compilation of the program. It allows methods or operators with the same name to behave differently based on their input parameters or usage. It is commonly referred to as method or operator overloading.\n",
        "* Run-Time Polymorphism: This type of polymorphism is determined during the execution of the program. It occurs when a subclass provides a specific implementation for a method already defined in its parent class, commonly known as method overriding."
      ],
      "metadata": {
        "id": "hqJdrzkgJ2LD"
      }
    },
    {
      "cell_type": "code",
      "source": [
        "class Cat:\n",
        "    def sound(self):\n",
        "        print(\"cat sound\")\n",
        "\n",
        "# Run-Time Polymorphism: Method Overriding\n",
        "class Toyger(Cat):\n",
        "    def sound(self):\n",
        "        print(\"Toyger meows\")\n",
        "class Munchkin(Cat):\n",
        "    def sound(self):\n",
        "        print(\"Munchkin meows\")\n",
        "\n",
        "# Compile-Time Polymorphism: Method Overloading Mimic\n",
        "class Calculator:\n",
        "    def add(self, a, b=0, c=0):\n",
        "        return a + b + c\n",
        "\n",
        "# Run-Time Polymorphism\n",
        "cats = [Cat(), Toyger(), Munchkin()]\n",
        "for cat in cats:\n",
        "    cat.sound()\n",
        "\n",
        "calc = Calculator()\n",
        "print(calc.add(2, 10))  # Two arguments\n",
        "print(calc.add(2, 10, 36))  # Three arguments"
      ],
      "metadata": {
        "colab": {
          "base_uri": "https://localhost:8080/"
        },
        "id": "s00NXjW_Ke5I",
        "outputId": "12c6967c-30cb-4db0-a6ad-3a74cff29b31"
      },
      "execution_count": null,
      "outputs": [
        {
          "output_type": "stream",
          "name": "stdout",
          "text": [
            "cat sound\n",
            "Toyger meows\n",
            "Munchkin meows\n",
            "12\n",
            "48\n"
          ]
        }
      ]
    },
    {
      "cell_type": "markdown",
      "source": [
        "###Explanation:\n",
        "\n",
        "Run-Time Polymorphism:\n",
        "* Demonstrated using method overriding in the Cat class and its subclasses (Toyger and Munchkin).\n",
        "* The correct sound method is invoked at runtime based on the actual type of the object in the list.  \n",
        "\n",
        "Compile-Time Polymorphism:\n",
        "* Python does not natively support method overloading. Instead, we use a single method (add) with default arguments to handle varying numbers of parameters.\n",
        "* Different behaviors (adding two or three numbers) are achieved based on how the method is called."
      ],
      "metadata": {
        "id": "MrefkZQVMbbS"
      }
    },
    {
      "cell_type": "markdown",
      "source": [
        "##3. Encapsulation\n",
        "Encapsulation is the bundling of data (attributes) and methods (functions) within a class, restricting access to some components to control interactions.\n",
        "\n",
        "A class is an example of encapsulation as it encapsulates all the data that is member functions, variables, etc.\n",
        "\n",
        "Types of Encapsulation:\n",
        "* Public Members: Accessible from anywhere.\n",
        "* Protected Members: Accessible within the class and its subclasses.\n",
        "* Private Members: Accessible only within the class."
      ],
      "metadata": {
        "id": "Enz7qYWkNHPC"
      }
    },
    {
      "cell_type": "code",
      "source": [
        "class Cat:\n",
        "    def __init__(self, name, breed, age):\n",
        "        self.name = name  # Public attribute\n",
        "        self._breed = breed  # Protected attribute\n",
        "        self.__age = age  # Private attribute\n",
        "    # Public method\n",
        "    def get_info(self):\n",
        "        return f\"Name: {self.name}, Breed: {self._breed}, Age: {self.__age}\"\n",
        "    # Getter and Setter for private attribute\n",
        "    def get_age(self):\n",
        "        return self.__age\n",
        "    def set_age(self, age):\n",
        "        if age > 0:\n",
        "            self.__age = age\n",
        "        else:\n",
        "            print(\"Invalid age!\")\n",
        "\n",
        "cat = Cat(\"Fiona\", \"Munchkin\", 2)\n",
        "print(cat.name)  # Public\n",
        "print(cat._breed)  # Protected\n",
        "#To print private member, use get and set\n",
        "print(cat.get_age())\n",
        "cat.set_age(4)\n",
        "print(cat.get_info())"
      ],
      "metadata": {
        "colab": {
          "base_uri": "https://localhost:8080/"
        },
        "id": "8tk95jpWNmRW",
        "outputId": "a463ac98-58a7-4fce-b540-0510c7d3c9b5"
      },
      "execution_count": null,
      "outputs": [
        {
          "output_type": "stream",
          "name": "stdout",
          "text": [
            "Fiona\n",
            "Munchkin\n",
            "2\n",
            "Name: Fiona, Breed: Munchkin, Age: 4\n"
          ]
        }
      ]
    },
    {
      "cell_type": "markdown",
      "source": [
        "###Explanation:\n",
        "\n",
        "* Public Members: Easily accessible, such as name.\n",
        "* Protected Members: Used with a single _, such as _breed. Access is discouraged but allowed in subclasses.\n",
        "* Private Members: Used with __, such as __age. Access requires getter and setter methods."
      ],
      "metadata": {
        "id": "fjhyhomVTmv-"
      }
    },
    {
      "cell_type": "markdown",
      "source": [
        "##4. Abstraction\n",
        "Abstraction hides the internal implementation details while exposing only the necessary functionality. It helps focus on “what to do” rather than “how to do it.”\n",
        "\n",
        "Types of Abstraction:\n",
        "* Partial Abstraction: Abstract class contains both abstract and concrete methods.\n",
        "* Full Abstraction: Abstract class contains only abstract methods (like interfaces)."
      ],
      "metadata": {
        "id": "7hMfj0OSTFbq"
      }
    },
    {
      "cell_type": "code",
      "source": [
        "from abc import ABC, abstractmethod\n",
        "\n",
        "class Cat(ABC):  # Abstract Class\n",
        "    def __init__(self, name):\n",
        "        self.name = name\n",
        "\n",
        "    @abstractmethod\n",
        "    def sound(self):  # Abstract Method\n",
        "        pass\n",
        "\n",
        "    def display_name(self):  # Concrete Method\n",
        "        print(f\"Cat's Name: {self.name}\")\n",
        "\n",
        "class Persian(Cat):  # Partial Abstraction\n",
        "    def sound(self):\n",
        "        print(\"Persian Meow!\")\n",
        "\n",
        "class Abyssinian(Cat):  # Partial Abstraction\n",
        "    def sound(self):\n",
        "        print(\"Abyssinian Meow!\")\n",
        "\n",
        "# Example Usage\n",
        "cats = [Persian(\"Fluffy\"), Abyssinian(\"Snowflake\")]\n",
        "for cat in cats:\n",
        "    cat.display_name()  # Calls concrete method\n",
        "    cat.sound()  # Calls implemented abstract method"
      ],
      "metadata": {
        "colab": {
          "base_uri": "https://localhost:8080/"
        },
        "id": "vH9wBQ4OT5JI",
        "outputId": "e01a4da7-a0cf-440f-c137-08d94ce64315"
      },
      "execution_count": null,
      "outputs": [
        {
          "output_type": "stream",
          "name": "stdout",
          "text": [
            "Cat's Name: Fluffy\n",
            "Persian Meow!\n",
            "Cat's Name: Snowflake\n",
            "Abyssinian Meow!\n"
          ]
        }
      ]
    },
    {
      "cell_type": "markdown",
      "source": [
        "###Explanation:\n",
        "\n",
        "* Partial Abstraction: The Dog class has both abstract (sound) and concrete (display_name) methods.\n",
        "* Why Use It: Abstraction ensures consistency in derived classes by enforcing the implementation of abstract methods."
      ],
      "metadata": {
        "id": "mcERLDCIVjJj"
      }
    }
  ]
}