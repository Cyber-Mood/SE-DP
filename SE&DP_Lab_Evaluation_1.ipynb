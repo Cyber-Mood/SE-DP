{
  "nbformat": 4,
  "nbformat_minor": 0,
  "metadata": {
    "colab": {
      "provenance": [],
      "authorship_tag": "ABX9TyNfs9PVm8OZe3qloNPwP+Lw",
      "include_colab_link": true
    },
    "kernelspec": {
      "name": "python3",
      "display_name": "Python 3"
    },
    "language_info": {
      "name": "python"
    }
  },
  "cells": [
    {
      "cell_type": "markdown",
      "metadata": {
        "id": "view-in-github",
        "colab_type": "text"
      },
      "source": [
        "<a href=\"https://colab.research.google.com/github/Cyber-Mood/SE-DP/blob/main/SE%26DP_Lab_Evaluation_1.ipynb\" target=\"_parent\"><img src=\"https://colab.research.google.com/assets/colab-badge.svg\" alt=\"Open In Colab\"/></a>"
      ]
    },
    {
      "cell_type": "markdown",
      "source": [
        "##Banking System\n"
      ],
      "metadata": {
        "id": "QTtsAdMuw_c3"
      }
    },
    {
      "cell_type": "code",
      "source": [
        "class Account:\n",
        "  def __init__(self, accountNumber:str, name:str, balance:float, accountType:str):\n",
        "    self.__accountNumber = accountNumber\n",
        "    self.__name = name\n",
        "    self.__balance = balance\n",
        "    self.__accountType = accountType\n",
        "\n",
        "  def deposit(self, amount:float):\n",
        "    if amount > 0:  ## amount must be greater than 0 for it to be deposited\n",
        "      self.__balance += amount\n",
        "      print(f\"Deposit TK{amount}. New Balance: TK{self.__balance}\")\n",
        "    else:\n",
        "      print(f\"Invalid deposit amount. Amount must be positive.\")\n",
        "\n",
        "  def withdraw(self, amount:float):\n",
        "    if amount > 0 and self.__balance - amount >= 0: ## if amount is less than 0 && balance - withdraw is greater than 0, then you can withdraw money\n",
        "      self.__balance -= amount\n",
        "      print(f\"Withdraw TK {amount} New Balance: TK {self.__balance}\")\n",
        "    else:\n",
        "      print(f\"Invalid withdraw amount. Insufficient fund.\")\n",
        "\n",
        "  def displayAccountInfo(self):\n",
        "    print(\"Account Number:\", self.__accountNumber)\n",
        "    print(\"Account Holder:\", self.__name)\n",
        "    print(\"Account Type:\", self.__accountType)\n",
        "    print(\"Balance:\", self.__balance)\n",
        "\n",
        "\n",
        "if __name__ == \"__main__\":\n",
        "    account1 = Account(\"123\", \"Jilany\", 4500.00, \"Student\")\n",
        "    account2 = Account(\"753\", \"Israt\", 4125.00, \"Savings\")\n",
        "\n",
        "    account1.displayAccountInfo()\n",
        "    account2.displayAccountInfo()\n",
        "\n",
        "    account1.deposit(580.00)\n",
        "    account2.deposit(487.50)\n",
        "\n",
        "    account1.withdraw(300.25)\n",
        "    account2.withdraw(258.12)\n",
        "\n",
        "    #Final Account Info\n",
        "    account1.displayAccountInfo()"
      ],
      "metadata": {
        "colab": {
          "base_uri": "https://localhost:8080/"
        },
        "id": "ktc9nNbex560",
        "outputId": "21faf406-5444-4969-836b-03413fb622b2"
      },
      "execution_count": 3,
      "outputs": [
        {
          "output_type": "stream",
          "name": "stdout",
          "text": [
            "Account Number: 123\n",
            "Account Holder: Jilany\n",
            "Account Type: Student\n",
            "Balance: 4500.0\n",
            "Account Number: 753\n",
            "Account Holder: Israt\n",
            "Account Type: Savings\n",
            "Balance: 4125.0\n",
            "Deposit TK580.0. New Balance: TK5080.0\n",
            "Deposit TK487.5. New Balance: TK4612.5\n",
            "Withdraw TK 300.25 New Balance: TK 4779.75\n",
            "Withdraw TK 258.12 New Balance: TK 4354.38\n",
            "Account Number: 123\n",
            "Account Holder: Jilany\n",
            "Account Type: Student\n",
            "Balance: 4779.75\n"
          ]
        }
      ]
    }
  ]
}